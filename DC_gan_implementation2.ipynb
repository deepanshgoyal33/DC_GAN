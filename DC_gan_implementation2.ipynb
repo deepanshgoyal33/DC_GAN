{
  "nbformat": 4,
  "nbformat_minor": 0,
  "metadata": {
    "colab": {
      "name": " DC_gan_implementation2.ipynb",
      "provenance": [],
      "collapsed_sections": [],
      "include_colab_link": true
    },
    "kernelspec": {
      "name": "python3",
      "display_name": "Python 3"
    },
    "accelerator": "GPU"
  },
  "cells": [
    {
      "cell_type": "markdown",
      "metadata": {
        "id": "view-in-github",
        "colab_type": "text"
      },
      "source": [
        "<a href=\"https://colab.research.google.com/github/deepanshgoyal33/DC_GAN/blob/master/DC_gan_implementation2.ipynb\" target=\"_parent\"><img src=\"https://colab.research.google.com/assets/colab-badge.svg\" alt=\"Open In Colab\"/></a>"
      ]
    },
    {
      "cell_type": "code",
      "metadata": {
        "id": "MO46Ad0gGA3T",
        "colab_type": "code",
        "colab": {}
      },
      "source": [
        "import torch\n",
        "import torchvision\n",
        "import argparse\n",
        "import os\n",
        "import random\n",
        "import torch\n",
        "import torch.nn as nn\n",
        "import torch.nn.parallel\n",
        "import torch.backends.cudnn as cudnn\n",
        "import torch.optim as optim\n",
        "import torch.utils.data\n",
        "import torchvision.datasets as dset\n",
        "import torchvision.transforms as transforms\n",
        "import torchvision.utils as vutils\n",
        "import numpy as np\n",
        "import matplotlib.pyplot as plt\n",
        "import matplotlib.animation as animation"
      ],
      "execution_count": 0,
      "outputs": []
    },
    {
      "cell_type": "code",
      "metadata": {
        "id": "uHSW_lIpH6i1",
        "colab_type": "code",
        "outputId": "c4bd8cd4-83f9-4abe-ad03-eb8195f7ca7a",
        "colab": {
          "base_uri": "https://localhost:8080/",
          "height": 35
        }
      },
      "source": [
        "#for Reproducibility\n",
        "manual_seed = 100\n",
        "random.seed(manual_seed)\n",
        "torch.manual_seed(manual_seed)"
      ],
      "execution_count": 5,
      "outputs": [
        {
          "output_type": "execute_result",
          "data": {
            "text/plain": [
              "<torch._C.Generator at 0x7f62174da3f0>"
            ]
          },
          "metadata": {
            "tags": []
          },
          "execution_count": 5
        }
      ]
    },
    {
      "cell_type": "code",
      "metadata": {
        "id": "9siUMaz1nI19",
        "colab_type": "code",
        "outputId": "f30418cf-75aa-49a3-cef1-0eda9c625868",
        "colab": {
          "base_uri": "https://localhost:8080/",
          "height": 128
        }
      },
      "source": [
        "#Mounting the drive\n",
        "from google.colab import drive\n",
        "drive.mount('/content/drive')"
      ],
      "execution_count": 6,
      "outputs": [
        {
          "output_type": "stream",
          "text": [
            "Go to this URL in a browser: https://accounts.google.com/o/oauth2/auth?client_id=947318989803-6bn6qk8qdgf4n4g3pfee6491hc0brc4i.apps.googleusercontent.com&redirect_uri=urn%3aietf%3awg%3aoauth%3a2.0%3aoob&response_type=code&scope=email%20https%3a%2f%2fwww.googleapis.com%2fauth%2fdocs.test%20https%3a%2f%2fwww.googleapis.com%2fauth%2fdrive%20https%3a%2f%2fwww.googleapis.com%2fauth%2fdrive.photos.readonly%20https%3a%2f%2fwww.googleapis.com%2fauth%2fpeopleapi.readonly\n",
            "\n",
            "Enter your authorization code:\n",
            "··········\n",
            "Mounted at /content/drive\n"
          ],
          "name": "stdout"
        }
      ]
    },
    {
      "cell_type": "code",
      "metadata": {
        "id": "2Yel7L_9nKih",
        "colab_type": "code",
        "colab": {}
      },
      "source": [
        "#give the path, where Dataste is kept\n",
        "path = \"/content/drive/My Drive/Celeb_A_Dataset/DC_GAN\""
      ],
      "execution_count": 0,
      "outputs": []
    },
    {
      "cell_type": "code",
      "metadata": {
        "id": "Ka-lYtRVLnCi",
        "colab_type": "code",
        "outputId": "66889efb-c3ff-47b5-8512-27c733da1393",
        "colab": {
          "base_uri": "https://localhost:8080/",
          "height": 35
        }
      },
      "source": [
        "#Initialising the parameters\n",
        "dataroot = path\n",
        "workers = 2\n",
        "batch_size = 128\n",
        "image_size = 64\n",
        "n_channels = 3\n",
        "nz = 100\n",
        "#size = n, generator =g, discriminator=f, features = f\n",
        "ngf = 64\n",
        "ndf = 64\n",
        "n_epochs = 100\n",
        "lr = .002\n",
        "beta1 = 0.5\n",
        "ngpu = torch.cuda.device_count()\n",
        "print(ngpu)"
      ],
      "execution_count": 17,
      "outputs": [
        {
          "output_type": "stream",
          "text": [
            "1\n"
          ],
          "name": "stdout"
        }
      ]
    },
    {
      "cell_type": "code",
      "metadata": {
        "id": "_deu1-bvNi5F",
        "colab_type": "code",
        "colab": {}
      },
      "source": [
        "#Dataset\n",
        "dataset = dset.ImageFolder(root=dataroot,\n",
        "                           transform=transforms.Compose([\n",
        "                               transforms.Resize(image_size),\n",
        "                               transforms.CenterCrop(image_size),\n",
        "                               transforms.ToTensor(),\n",
        "                               transforms.Normalize((0.5, 0.5, 0.5), (0.5, 0.5, 0.5)),\n",
        "                           ]))\n",
        "# dataloader\n",
        "dataloader = torch.utils.data.DataLoader(dataset, batch_size=batch_size,\n",
        "                                         shuffle=True, num_workers=workers)\n",
        "\n",
        "# cuda dependencies and Gpu mounting\n",
        "device = torch.device(\"cuda:0\" if (torch.cuda.is_available() and ngpu > 0) else \"cpu\")\n"
      ],
      "execution_count": 0,
      "outputs": []
    },
    {
      "cell_type": "code",
      "metadata": {
        "id": "A0_PXsPyhQRZ",
        "colab_type": "code",
        "colab": {}
      },
      "source": [
        "\n",
        "batch = next(iter(dataloader))"
      ],
      "execution_count": 0,
      "outputs": []
    },
    {
      "cell_type": "code",
      "metadata": {
        "id": "3JGlllH7ue_9",
        "colab_type": "code",
        "colab": {}
      },
      "source": [
        " #Function to initialise weights for a layer\n",
        " def weights_init(m):\n",
        "   classname = m.__class__.__name__\n",
        "   if classname.find('Conv')!= -1:\n",
        "     nn.init.normal_(m.weight,0.0,0.02)\n",
        "   elif classname.find('BatchNorm') != -1:\n",
        "     nn.init.normal_(m.weight.data,1.0,.02)\n",
        "     nn.init.constant_(m.bias.data,0)"
      ],
      "execution_count": 0,
      "outputs": []
    },
    {
      "cell_type": "code",
      "metadata": {
        "id": "wf8cUC5PuaA6",
        "colab_type": "code",
        "colab": {}
      },
      "source": [
        "#Making the Generator Module and its architecture\n",
        "class Generator(nn.Module):\n",
        "  def __init__(self, ngpu):\n",
        "    super(Generator, self).__init__()\n",
        "    self.ngpu = ngpu\n",
        "    self.main = nn.Sequential(\n",
        "        # input is Z, going into a convolution\n",
        "        nn.ConvTranspose2d( nz, ngf * 8, 4, 1, 0, bias=False),\n",
        "        nn.BatchNorm2d(ngf * 8),\n",
        "        nn.ReLU(True),\n",
        "        # state size. (ngf*8) x 4 x 4\n",
        "        nn.ConvTranspose2d(ngf * 8, ngf * 4, 4, 2, 1, bias=False),\n",
        "        nn.BatchNorm2d(ngf * 4),\n",
        "        nn.ReLU(True),\n",
        "        # state size. (ngf*4) x 8 x 8\n",
        "        nn.ConvTranspose2d( ngf * 4, ngf * 2, 4, 2, 1, bias=False),\n",
        "        nn.BatchNorm2d(ngf * 2),\n",
        "        nn.ReLU(True),\n",
        "        # state size. (ngf*2) x 16 x 16\n",
        "        nn.ConvTranspose2d( ngf * 2, ngf, 4, 2, 1, bias=False),\n",
        "        nn.BatchNorm2d(ngf),\n",
        "        nn.ReLU(True),\n",
        "        # state size. (ngf) x 32 x 32\n",
        "        nn.ConvTranspose2d( ngf, n_channels, 4, 2, 1, bias=False),\n",
        "        nn.Tanh()\n",
        "        # state size. (nc) x 64 x 64\n",
        "        )\n",
        "  def forward(self, input):\n",
        "        return self.main(input)"
      ],
      "execution_count": 0,
      "outputs": []
    },
    {
      "cell_type": "code",
      "metadata": {
        "id": "gt0Ef340g67K",
        "colab_type": "code",
        "outputId": "b5d66b42-0e95-4f35-8784-f7506b66f458",
        "colab": {
          "base_uri": "https://localhost:8080/",
          "height": 345
        }
      },
      "source": [
        "#initialing the model with a argument\n",
        "generatornet = Generator(ngpu).to(device)\n",
        "generatornet.apply(weights_init)\n",
        "print(generatornet)"
      ],
      "execution_count": 22,
      "outputs": [
        {
          "output_type": "stream",
          "text": [
            "Generator(\n",
            "  (main): Sequential(\n",
            "    (0): ConvTranspose2d(100, 512, kernel_size=(4, 4), stride=(1, 1), bias=False)\n",
            "    (1): BatchNorm2d(512, eps=1e-05, momentum=0.1, affine=True, track_running_stats=True)\n",
            "    (2): ReLU(inplace=True)\n",
            "    (3): ConvTranspose2d(512, 256, kernel_size=(4, 4), stride=(2, 2), padding=(1, 1), bias=False)\n",
            "    (4): BatchNorm2d(256, eps=1e-05, momentum=0.1, affine=True, track_running_stats=True)\n",
            "    (5): ReLU(inplace=True)\n",
            "    (6): ConvTranspose2d(256, 128, kernel_size=(4, 4), stride=(2, 2), padding=(1, 1), bias=False)\n",
            "    (7): BatchNorm2d(128, eps=1e-05, momentum=0.1, affine=True, track_running_stats=True)\n",
            "    (8): ReLU(inplace=True)\n",
            "    (9): ConvTranspose2d(128, 64, kernel_size=(4, 4), stride=(2, 2), padding=(1, 1), bias=False)\n",
            "    (10): BatchNorm2d(64, eps=1e-05, momentum=0.1, affine=True, track_running_stats=True)\n",
            "    (11): ReLU(inplace=True)\n",
            "    (12): ConvTranspose2d(64, 3, kernel_size=(4, 4), stride=(2, 2), padding=(1, 1), bias=False)\n",
            "    (13): Tanh()\n",
            "  )\n",
            ")\n"
          ],
          "name": "stdout"
        }
      ]
    },
    {
      "cell_type": "code",
      "metadata": {
        "id": "UlFgeZQWBkV5",
        "colab_type": "code",
        "colab": {}
      },
      "source": [
        "# Architecture of the Discriminator\n",
        "## Inorder to chcek each layer feature padding,batch norm and bias structre you \n",
        "##  can use the model_dict or state_dict function\n",
        "class Discriminator(nn.Module):\n",
        "  def __init__(self,ngpu):\n",
        "    super(Discriminator ,self).__init__()\n",
        "    self.ngpu= ngpu\n",
        "    self.main = nn.Sequential(\n",
        "        nn.Conv2d(n_channels, ndf,4,2,1,bias= False),\n",
        "        nn.LeakyReLU(0.2,inplace=True),\n",
        "        nn.Conv2d(ndf,ndf*2,4,2,1,bias = True),\n",
        "        nn.BatchNorm2d(ndf*2),\n",
        "        nn.LeakyReLU(0.2,inplace = True),\n",
        "        nn.Conv2d(ndf*2,ndf*4,4,2,1,bias = True),\n",
        "        nn.BatchNorm2d(ndf*4),\n",
        "        nn.LeakyReLU(0.2,inplace = True),\n",
        "        nn.Conv2d(ndf * 4, ndf * 8, 4, 2, 1, bias=False),\n",
        "        nn.BatchNorm2d(ndf * 8),\n",
        "        nn.LeakyReLU(0.2, inplace=True),\n",
        "        nn.Conv2d(ndf*8,1,4,1,0,bias=False),\n",
        "        nn.Sigmoid()      \n",
        "    )\n",
        "  def forward(self, input):\n",
        "      return self.main(input)"
      ],
      "execution_count": 0,
      "outputs": []
    },
    {
      "cell_type": "code",
      "metadata": {
        "id": "4Qu1a3SORm5I",
        "colab_type": "code",
        "outputId": "27f1bec4-2c5a-44db-ee4a-7002e9d0927d",
        "colab": {
          "base_uri": "https://localhost:8080/",
          "height": 326
        }
      },
      "source": [
        "#Initialising the discriminatornet\n",
        "discriminatornet = Discriminator(ngpu).to(device)\n",
        "discriminatornet.apply(weights_init)\n",
        "print( discriminatornet)"
      ],
      "execution_count": 24,
      "outputs": [
        {
          "output_type": "stream",
          "text": [
            "Discriminator(\n",
            "  (main): Sequential(\n",
            "    (0): Conv2d(3, 64, kernel_size=(4, 4), stride=(2, 2), padding=(1, 1), bias=False)\n",
            "    (1): LeakyReLU(negative_slope=0.2, inplace=True)\n",
            "    (2): Conv2d(64, 128, kernel_size=(4, 4), stride=(2, 2), padding=(1, 1))\n",
            "    (3): BatchNorm2d(128, eps=1e-05, momentum=0.1, affine=True, track_running_stats=True)\n",
            "    (4): LeakyReLU(negative_slope=0.2, inplace=True)\n",
            "    (5): Conv2d(128, 256, kernel_size=(4, 4), stride=(2, 2), padding=(1, 1))\n",
            "    (6): BatchNorm2d(256, eps=1e-05, momentum=0.1, affine=True, track_running_stats=True)\n",
            "    (7): LeakyReLU(negative_slope=0.2, inplace=True)\n",
            "    (8): Conv2d(256, 512, kernel_size=(4, 4), stride=(2, 2), padding=(1, 1), bias=False)\n",
            "    (9): BatchNorm2d(512, eps=1e-05, momentum=0.1, affine=True, track_running_stats=True)\n",
            "    (10): LeakyReLU(negative_slope=0.2, inplace=True)\n",
            "    (11): Conv2d(512, 1, kernel_size=(4, 4), stride=(1, 1), bias=False)\n",
            "    (12): Sigmoid()\n",
            "  )\n",
            ")\n"
          ],
          "name": "stdout"
        }
      ]
    },
    {
      "cell_type": "code",
      "metadata": {
        "id": "TYGzSR5ASDrX",
        "colab_type": "code",
        "colab": {}
      },
      "source": [
        "# All the optimizers, loss function and noise defined\n",
        "criterion = nn.BCELoss()\n",
        "fixed_noise = torch.randn(64,nz,1,1,device=device)\n",
        "real_label = 1\n",
        "fake_label =0\n",
        "optimizerG = optim.Adam(generatornet.parameters(),lr =lr,betas = (beta1,0.999))\n",
        "optimizerD = optim.Adam(discriminatornet.parameters(),lr =lr,betas = (beta1,0.999))"
      ],
      "execution_count": 0,
      "outputs": []
    },
    {
      "cell_type": "code",
      "metadata": {
        "id": "juaPTemfkq-3",
        "colab_type": "code",
        "colab": {}
      },
      "source": [
        "## Variables to store the in-training values\n",
        "img_list = []\n",
        "G_losses = []\n",
        "D_losses = []\n",
        "iters = 0"
      ],
      "execution_count": 0,
      "outputs": []
    },
    {
      "cell_type": "code",
      "metadata": {
        "id": "pzG0SSazyO6V",
        "colab_type": "code",
        "colab": {}
      },
      "source": [
        "#Training Loop\n",
        "print(\"Starting Training Loop..\")\n",
        "for epoch in range(n_epochs):\n",
        "  for i, data in enumerate(dataloader,0):\n",
        "    #clearing memory\n",
        "    discriminatornet.zero_grad()\n",
        "    #batch formatting\n",
        "    real_cpu = data[0].to(device)\n",
        "    b_size = real_cpu.size(0)\n",
        "    #real samples\n",
        "    label = torch.full((batch_size,), real_label, device=device)\n",
        "    #output values using the real batch by forward passing through the discrimintor\n",
        "    output = discriminatornet(real_cpu)\n",
        "    output = output.view(-1)\n",
        "    error_disReal = criterion(output,label)\n",
        "    error_disReal.backward()\n",
        "    D_x = output.mean().item()\n",
        "    \n",
        "    ##fake batch \n",
        "    noise = torch.randn(batch_size,nz,1,1,device= device)\n",
        "    fake = generatornet(noise)\n",
        "    label.fill_(fake_label)\n",
        "    output = discriminatornet( fake.detach()).view(-1)\n",
        "    error_disFake = criterion( output,label)\n",
        "    error_disFake.backward()\n",
        "    D_G_z1 = output.mean().item()\n",
        "    \n",
        "    error_dis = error_disFake +error_disReal\n",
        "    optimizerD.step()\n",
        "\n",
        "\n",
        "    #################Generator Network\n",
        "    discriminatornet.zero_grad()\n",
        "    label.fill_(real_label)\n",
        "    output = discriminatornet(fake).view(-1)\n",
        "    error_gen = criterion(output,label)\n",
        "    error_gen.backward()\n",
        "    D_G_z2 = output.mean().item()\n",
        "    optimizerG.step()\n",
        "\n",
        "\n",
        "    if i % 50 == 0:\n",
        "      print('[%d/%d][%d/%d]\\tLoss_D: %.4f\\tLoss_G: %.4f\\tD(x): %.4f\\tD(G(z)): %.4f / %.4f'\n",
        "                  % (epoch, n_epochs, i, len(dataloader),\n",
        "                     error_dis.item(), error_gen.item(), D_x, D_G_z1, D_G_z2))\n",
        "    G_losses.append(error_gen.item())\n",
        "    D_losses.append(error_dis.item())\n",
        "    if (iters % 500 == 0) or ((epoch == n_epochs-1) and (i == len(dataloader)-1)):\n",
        "      with torch.no_grad():\n",
        "        fake = generatornet(fixed_noise).detach().cpu()\n",
        "        img_list.append(vutils.make_grid(fake, padding=2, normalize=True))\n",
        "\n",
        "    iters += 1"
      ],
      "execution_count": 0,
      "outputs": []
    },
    {
      "cell_type": "code",
      "metadata": {
        "id": "u5jEMFtczKBA",
        "colab_type": "code",
        "colab": {}
      },
      "source": [
        ""
      ],
      "execution_count": 0,
      "outputs": []
    }
  ]
}